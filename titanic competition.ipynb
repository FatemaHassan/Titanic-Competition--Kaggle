{
 "cells": [
  {
   "cell_type": "code",
   "execution_count": 1,
   "id": "large-progress",
   "metadata": {
    "_cell_guid": "b1076dfc-b9ad-4769-8c92-a6c4dae69d19",
    "_uuid": "8f2839f25d086af736a60e9eeb907d3b93b6e0e5",
    "execution": {
     "iopub.execute_input": "2021-06-11T19:45:39.913411Z",
     "iopub.status.busy": "2021-06-11T19:45:39.912531Z",
     "iopub.status.idle": "2021-06-11T19:45:39.919536Z",
     "shell.execute_reply": "2021-06-11T19:45:39.918546Z",
     "shell.execute_reply.started": "2021-06-11T19:31:02.437817Z"
    },
    "papermill": {
     "duration": 0.06193,
     "end_time": "2021-06-11T19:45:39.919770",
     "exception": false,
     "start_time": "2021-06-11T19:45:39.857840",
     "status": "completed"
    },
    "tags": []
   },
   "outputs": [
    {
     "name": "stdout",
     "output_type": "stream",
     "text": [
      "/kaggle/input/titanic/train.csv\n",
      "/kaggle/input/titanic/test.csv\n",
      "/kaggle/input/titanic/gender_submission.csv\n"
     ]
    }
   ],
   "source": [
    "import numpy as np \n",
    "import pandas as pd \n",
    "\n",
    "import os\n",
    "for dirname, _, filenames in os.walk('/kaggle/input'):\n",
    "    for filename in filenames:\n",
    "        print(os.path.join(dirname, filename))"
   ]
  },
  {
   "cell_type": "markdown",
   "id": "interracial-siemens",
   "metadata": {
    "papermill": {
     "duration": 0.044294,
     "end_time": "2021-06-11T19:45:40.008985",
     "exception": false,
     "start_time": "2021-06-11T19:45:39.964691",
     "status": "completed"
    },
    "tags": []
   },
   "source": [
    "# Read training data"
   ]
  },
  {
   "cell_type": "code",
   "execution_count": 2,
   "id": "perceived-tuner",
   "metadata": {
    "execution": {
     "iopub.execute_input": "2021-06-11T19:45:40.101240Z",
     "iopub.status.busy": "2021-06-11T19:45:40.100553Z",
     "iopub.status.idle": "2021-06-11T19:45:40.145310Z",
     "shell.execute_reply": "2021-06-11T19:45:40.145796Z",
     "shell.execute_reply.started": "2021-06-11T19:31:04.508899Z"
    },
    "papermill": {
     "duration": 0.093255,
     "end_time": "2021-06-11T19:45:40.145965",
     "exception": false,
     "start_time": "2021-06-11T19:45:40.052710",
     "status": "completed"
    },
    "tags": []
   },
   "outputs": [
    {
     "data": {
      "text/html": [
       "<div>\n",
       "<style scoped>\n",
       "    .dataframe tbody tr th:only-of-type {\n",
       "        vertical-align: middle;\n",
       "    }\n",
       "\n",
       "    .dataframe tbody tr th {\n",
       "        vertical-align: top;\n",
       "    }\n",
       "\n",
       "    .dataframe thead th {\n",
       "        text-align: right;\n",
       "    }\n",
       "</style>\n",
       "<table border=\"1\" class=\"dataframe\">\n",
       "  <thead>\n",
       "    <tr style=\"text-align: right;\">\n",
       "      <th></th>\n",
       "      <th>PassengerId</th>\n",
       "      <th>Survived</th>\n",
       "      <th>Pclass</th>\n",
       "      <th>Name</th>\n",
       "      <th>Sex</th>\n",
       "      <th>Age</th>\n",
       "      <th>SibSp</th>\n",
       "      <th>Parch</th>\n",
       "      <th>Ticket</th>\n",
       "      <th>Fare</th>\n",
       "      <th>Cabin</th>\n",
       "      <th>Embarked</th>\n",
       "    </tr>\n",
       "  </thead>\n",
       "  <tbody>\n",
       "    <tr>\n",
       "      <th>0</th>\n",
       "      <td>1</td>\n",
       "      <td>0</td>\n",
       "      <td>3</td>\n",
       "      <td>Braund, Mr. Owen Harris</td>\n",
       "      <td>male</td>\n",
       "      <td>22.0</td>\n",
       "      <td>1</td>\n",
       "      <td>0</td>\n",
       "      <td>A/5 21171</td>\n",
       "      <td>7.2500</td>\n",
       "      <td>NaN</td>\n",
       "      <td>S</td>\n",
       "    </tr>\n",
       "    <tr>\n",
       "      <th>1</th>\n",
       "      <td>2</td>\n",
       "      <td>1</td>\n",
       "      <td>1</td>\n",
       "      <td>Cumings, Mrs. John Bradley (Florence Briggs Th...</td>\n",
       "      <td>female</td>\n",
       "      <td>38.0</td>\n",
       "      <td>1</td>\n",
       "      <td>0</td>\n",
       "      <td>PC 17599</td>\n",
       "      <td>71.2833</td>\n",
       "      <td>C85</td>\n",
       "      <td>C</td>\n",
       "    </tr>\n",
       "    <tr>\n",
       "      <th>2</th>\n",
       "      <td>3</td>\n",
       "      <td>1</td>\n",
       "      <td>3</td>\n",
       "      <td>Heikkinen, Miss. Laina</td>\n",
       "      <td>female</td>\n",
       "      <td>26.0</td>\n",
       "      <td>0</td>\n",
       "      <td>0</td>\n",
       "      <td>STON/O2. 3101282</td>\n",
       "      <td>7.9250</td>\n",
       "      <td>NaN</td>\n",
       "      <td>S</td>\n",
       "    </tr>\n",
       "    <tr>\n",
       "      <th>3</th>\n",
       "      <td>4</td>\n",
       "      <td>1</td>\n",
       "      <td>1</td>\n",
       "      <td>Futrelle, Mrs. Jacques Heath (Lily May Peel)</td>\n",
       "      <td>female</td>\n",
       "      <td>35.0</td>\n",
       "      <td>1</td>\n",
       "      <td>0</td>\n",
       "      <td>113803</td>\n",
       "      <td>53.1000</td>\n",
       "      <td>C123</td>\n",
       "      <td>S</td>\n",
       "    </tr>\n",
       "    <tr>\n",
       "      <th>4</th>\n",
       "      <td>5</td>\n",
       "      <td>0</td>\n",
       "      <td>3</td>\n",
       "      <td>Allen, Mr. William Henry</td>\n",
       "      <td>male</td>\n",
       "      <td>35.0</td>\n",
       "      <td>0</td>\n",
       "      <td>0</td>\n",
       "      <td>373450</td>\n",
       "      <td>8.0500</td>\n",
       "      <td>NaN</td>\n",
       "      <td>S</td>\n",
       "    </tr>\n",
       "  </tbody>\n",
       "</table>\n",
       "</div>"
      ],
      "text/plain": [
       "   PassengerId  Survived  Pclass  \\\n",
       "0            1         0       3   \n",
       "1            2         1       1   \n",
       "2            3         1       3   \n",
       "3            4         1       1   \n",
       "4            5         0       3   \n",
       "\n",
       "                                                Name     Sex   Age  SibSp  \\\n",
       "0                            Braund, Mr. Owen Harris    male  22.0      1   \n",
       "1  Cumings, Mrs. John Bradley (Florence Briggs Th...  female  38.0      1   \n",
       "2                             Heikkinen, Miss. Laina  female  26.0      0   \n",
       "3       Futrelle, Mrs. Jacques Heath (Lily May Peel)  female  35.0      1   \n",
       "4                           Allen, Mr. William Henry    male  35.0      0   \n",
       "\n",
       "   Parch            Ticket     Fare Cabin Embarked  \n",
       "0      0         A/5 21171   7.2500   NaN        S  \n",
       "1      0          PC 17599  71.2833   C85        C  \n",
       "2      0  STON/O2. 3101282   7.9250   NaN        S  \n",
       "3      0            113803  53.1000  C123        S  \n",
       "4      0            373450   8.0500   NaN        S  "
      ]
     },
     "execution_count": 2,
     "metadata": {},
     "output_type": "execute_result"
    }
   ],
   "source": [
    "# reading training data\n",
    "trainingData = pd.read_csv(\"/kaggle/input/titanic/train.csv\")\n",
    "# printing first 5 columns to view data\n",
    "trainingData.head()"
   ]
  },
  {
   "cell_type": "markdown",
   "id": "sudden-scholar",
   "metadata": {
    "papermill": {
     "duration": 0.044929,
     "end_time": "2021-06-11T19:45:40.235516",
     "exception": false,
     "start_time": "2021-06-11T19:45:40.190587",
     "status": "completed"
    },
    "tags": []
   },
   "source": [
    "# Data Visualization"
   ]
  },
  {
   "cell_type": "markdown",
   "id": "signal-shelf",
   "metadata": {
    "papermill": {
     "duration": 0.043667,
     "end_time": "2021-06-11T19:45:40.323240",
     "exception": false,
     "start_time": "2021-06-11T19:45:40.279573",
     "status": "completed"
    },
    "tags": []
   },
   "source": [
    "* Pclas vs Survived"
   ]
  },
  {
   "cell_type": "code",
   "execution_count": 3,
   "id": "appreciated-syria",
   "metadata": {
    "execution": {
     "iopub.execute_input": "2021-06-11T19:45:40.423421Z",
     "iopub.status.busy": "2021-06-11T19:45:40.422701Z",
     "iopub.status.idle": "2021-06-11T19:45:40.603371Z",
     "shell.execute_reply": "2021-06-11T19:45:40.602779Z",
     "shell.execute_reply.started": "2021-06-11T19:31:06.8391Z"
    },
    "papermill": {
     "duration": 0.236003,
     "end_time": "2021-06-11T19:45:40.603515",
     "exception": false,
     "start_time": "2021-06-11T19:45:40.367512",
     "status": "completed"
    },
    "tags": []
   },
   "outputs": [
    {
     "data": {
      "text/plain": [
       "Text(0, 0.5, 'Survived')"
      ]
     },
     "execution_count": 3,
     "metadata": {},
     "output_type": "execute_result"
    },
    {
     "data": {
      "image/png": "[encoded data removed]",
      "text/plain": [
       "<Figure size 432x288 with 1 Axes>"
      ]
     },
     "metadata": {
      "needs_background": "light"
     },
     "output_type": "display_data"
    }
   ],
   "source": [
    "import matplotlib.pyplot as plt\n",
    "plt = trainingData[['Pclass', 'Survived']].groupby('Pclass').mean().Survived.plot(kind='bar')\n",
    "plt.set_xlabel('Pclass')\n",
    "plt.set_ylabel('Survived')"
   ]
  },
  {
   "cell_type": "markdown",
   "id": "forced-mounting",
   "metadata": {
    "papermill": {
     "duration": 0.04625,
     "end_time": "2021-06-11T19:45:40.697026",
     "exception": false,
     "start_time": "2021-06-11T19:45:40.650776",
     "status": "completed"
    },
    "tags": []
   },
   "source": [
    "* Sex vs Survived"
   ]
  },
  {
   "cell_type": "code",
   "execution_count": 4,
   "id": "prescribed-waters",
   "metadata": {
    "execution": {
     "iopub.execute_input": "2021-06-11T19:45:40.807132Z",
     "iopub.status.busy": "2021-06-11T19:45:40.796686Z",
     "iopub.status.idle": "2021-06-11T19:45:40.930433Z",
     "shell.execute_reply": "2021-06-11T19:45:40.929813Z",
     "shell.execute_reply.started": "2021-06-11T19:31:08.200298Z"
    },
    "papermill": {
     "duration": 0.187745,
     "end_time": "2021-06-11T19:45:40.930573",
     "exception": false,
     "start_time": "2021-06-11T19:45:40.742828",
     "status": "completed"
    },
    "tags": []
   },
   "outputs": [
    {
     "data": {
      "text/plain": [
       "Text(0, 0.5, 'Survived')"
      ]
     },
     "execution_count": 4,
     "metadata": {},
     "output_type": "execute_result"
    },
    {
     "data": {
      "image/png": "[encoded data removed]",
      "text/plain": [
       "<Figure size 432x288 with 1 Axes>"
      ]
     },
     "metadata": {
      "needs_background": "light"
     },
     "output_type": "display_data"
    }
   ],
   "source": [
    "plt = trainingData[['Sex', 'Survived']].groupby('Sex').mean().Survived.plot(kind='bar')\n",
    "plt.set_xlabel('Sex')\n",
    "plt.set_ylabel('Survived')"
   ]
  },
  {
   "cell_type": "markdown",
   "id": "ambient-guidance",
   "metadata": {
    "papermill": {
     "duration": 0.046412,
     "end_time": "2021-06-11T19:45:41.023460",
     "exception": false,
     "start_time": "2021-06-11T19:45:40.977048",
     "status": "completed"
    },
    "tags": []
   },
   "source": [
    "* Embarked vs Survived"
   ]
  },
  {
   "cell_type": "code",
   "execution_count": 5,
   "id": "grateful-meaning",
   "metadata": {
    "execution": {
     "iopub.execute_input": "2021-06-11T19:45:41.142758Z",
     "iopub.status.busy": "2021-06-11T19:45:41.123154Z",
     "iopub.status.idle": "2021-06-11T19:45:41.253011Z",
     "shell.execute_reply": "2021-06-11T19:45:41.252187Z",
     "shell.execute_reply.started": "2021-06-11T19:31:09.237105Z"
    },
    "papermill": {
     "duration": 0.183656,
     "end_time": "2021-06-11T19:45:41.253218",
     "exception": false,
     "start_time": "2021-06-11T19:45:41.069562",
     "status": "completed"
    },
    "tags": []
   },
   "outputs": [
    {
     "data": {
      "text/plain": [
       "Text(0, 0.5, 'Survived')"
      ]
     },
     "execution_count": 5,
     "metadata": {},
     "output_type": "execute_result"
    },
    {
     "data": {
      "image/png": "[encoded data removed]",
      "text/plain": [
       "<Figure size 432x288 with 1 Axes>"
      ]
     },
     "metadata": {
      "needs_background": "light"
     },
     "output_type": "display_data"
    }
   ],
   "source": [
    "plt = trainingData[['Embarked', 'Survived']].groupby('Embarked').mean().Survived.plot(kind='bar')\n",
    "plt.set_xlabel('Embarked')\n",
    "plt.set_ylabel('Survived')"
   ]
  },
  {
   "cell_type": "markdown",
   "id": "activated-joint",
   "metadata": {
    "papermill": {
     "duration": 0.050879,
     "end_time": "2021-06-11T19:45:41.361572",
     "exception": false,
     "start_time": "2021-06-11T19:45:41.310693",
     "status": "completed"
    },
    "tags": []
   },
   "source": [
    "* Parch vs Survived"
   ]
  },
  {
   "cell_type": "code",
   "execution_count": 6,
   "id": "twelve-bulgarian",
   "metadata": {
    "execution": {
     "iopub.execute_input": "2021-06-11T19:45:41.488111Z",
     "iopub.status.busy": "2021-06-11T19:45:41.477743Z",
     "iopub.status.idle": "2021-06-11T19:45:41.632404Z",
     "shell.execute_reply": "2021-06-11T19:45:41.632960Z",
     "shell.execute_reply.started": "2021-06-11T19:31:10.23022Z"
    },
    "papermill": {
     "duration": 0.222672,
     "end_time": "2021-06-11T19:45:41.633164",
     "exception": false,
     "start_time": "2021-06-11T19:45:41.410492",
     "status": "completed"
    },
    "tags": []
   },
   "outputs": [
    {
     "data": {
      "text/plain": [
       "Text(0, 0.5, 'Survival Probability')"
      ]
     },
     "execution_count": 6,
     "metadata": {},
     "output_type": "execute_result"
    },
    {
     "data": {
      "image/png": "[encoded data removed]",
      "text/plain": [
       "<Figure size 432x288 with 1 Axes>"
      ]
     },
     "metadata": {
      "needs_background": "light"
     },
     "output_type": "display_data"
    }
   ],
   "source": [
    "plt = trainingData[['Parch', 'Survived']].groupby('Parch').mean().Survived.plot(kind='bar')\n",
    "plt.set_xlabel('Parch')\n",
    "plt.set_ylabel('Survival Probability')"
   ]
  },
  {
   "cell_type": "markdown",
   "id": "hundred-robinson",
   "metadata": {
    "papermill": {
     "duration": 0.063627,
     "end_time": "2021-06-11T19:45:41.770946",
     "exception": false,
     "start_time": "2021-06-11T19:45:41.707319",
     "status": "completed"
    },
    "tags": []
   },
   "source": [
    "* SibSp vs Survived"
   ]
  },
  {
   "cell_type": "code",
   "execution_count": 7,
   "id": "public-continent",
   "metadata": {
    "execution": {
     "iopub.execute_input": "2021-06-11T19:45:41.870880Z",
     "iopub.status.busy": "2021-06-11T19:45:41.870221Z",
     "iopub.status.idle": "2021-06-11T19:45:42.033099Z",
     "shell.execute_reply": "2021-06-11T19:45:42.032392Z",
     "shell.execute_reply.started": "2021-06-11T19:31:11.200223Z"
    },
    "papermill": {
     "duration": 0.21346,
     "end_time": "2021-06-11T19:45:42.033246",
     "exception": false,
     "start_time": "2021-06-11T19:45:41.819786",
     "status": "completed"
    },
    "tags": []
   },
   "outputs": [
    {
     "data": {
      "text/plain": [
       "Text(0, 0.5, 'Survival Probability')"
      ]
     },
     "execution_count": 7,
     "metadata": {},
     "output_type": "execute_result"
    },
    {
     "data": {
      "image/png": "[encoded data removed]",
      "text/plain": [
       "<Figure size 432x288 with 1 Axes>"
      ]
     },
     "metadata": {
      "needs_background": "light"
     },
     "output_type": "display_data"
    }
   ],
   "source": [
    "plt = trainingData[['Parch', 'Survived']].groupby('Parch').mean().Survived.plot(kind='bar')\n",
    "plt.set_xlabel('Parch')\n",
    "plt.set_ylabel('Survival Probability')"
   ]
  },
  {
   "cell_type": "markdown",
   "id": "universal-tenant",
   "metadata": {
    "papermill": {
     "duration": 0.05023,
     "end_time": "2021-06-11T19:45:42.133010",
     "exception": false,
     "start_time": "2021-06-11T19:45:42.082780",
     "status": "completed"
    },
    "tags": []
   },
   "source": [
    "**Conclusions:**\n",
    "* The passengers having one sibling/spouse has more survival probability.\n",
    "* C > Q > S in terms of survival probability\n",
    "* Females are more likely to survive\n",
    "* 1st class has high chance of surviving than the other two classes.\n",
    "* The passengers having three children/parents has more survival probability."
   ]
  },
  {
   "cell_type": "markdown",
   "id": "adapted-station",
   "metadata": {
    "papermill": {
     "duration": 0.049419,
     "end_time": "2021-06-11T19:45:42.232637",
     "exception": false,
     "start_time": "2021-06-11T19:45:42.183218",
     "status": "completed"
    },
    "tags": []
   },
   "source": [
    "# **Preprocessing & Feature Engineering**"
   ]
  },
  {
   "cell_type": "markdown",
   "id": "literary-forum",
   "metadata": {
    "papermill": {
     "duration": 0.049078,
     "end_time": "2021-06-11T19:45:42.332212",
     "exception": false,
     "start_time": "2021-06-11T19:45:42.283134",
     "status": "completed"
    },
    "tags": []
   },
   "source": [
    "* finding and locating null values"
   ]
  },
  {
   "cell_type": "code",
   "execution_count": 8,
   "id": "aerial-transparency",
   "metadata": {
    "execution": {
     "iopub.execute_input": "2021-06-11T19:45:42.440619Z",
     "iopub.status.busy": "2021-06-11T19:45:42.439973Z",
     "iopub.status.idle": "2021-06-11T19:45:42.444128Z",
     "shell.execute_reply": "2021-06-11T19:45:42.443529Z",
     "shell.execute_reply.started": "2021-06-11T19:31:13.275097Z"
    },
    "papermill": {
     "duration": 0.061725,
     "end_time": "2021-06-11T19:45:42.444276",
     "exception": false,
     "start_time": "2021-06-11T19:45:42.382551",
     "status": "completed"
    },
    "tags": []
   },
   "outputs": [
    {
     "data": {
      "text/plain": [
       "PassengerId      0\n",
       "Survived         0\n",
       "Pclass           0\n",
       "Name             0\n",
       "Sex              0\n",
       "Age            177\n",
       "SibSp            0\n",
       "Parch            0\n",
       "Ticket           0\n",
       "Fare             0\n",
       "Cabin          687\n",
       "Embarked         2\n",
       "dtype: int64"
      ]
     },
     "execution_count": 8,
     "metadata": {},
     "output_type": "execute_result"
    }
   ],
   "source": [
    "# checking the number of null values per column\n",
    "trainingData.isna().sum()"
   ]
  },
  {
   "cell_type": "code",
   "execution_count": 9,
   "id": "trained-development",
   "metadata": {
    "execution": {
     "iopub.execute_input": "2021-06-11T19:45:42.546634Z",
     "iopub.status.busy": "2021-06-11T19:45:42.545973Z",
     "iopub.status.idle": "2021-06-11T19:45:42.569793Z",
     "shell.execute_reply": "2021-06-11T19:45:42.569189Z",
     "shell.execute_reply.started": "2021-06-11T19:31:13.838468Z"
    },
    "papermill": {
     "duration": 0.076112,
     "end_time": "2021-06-11T19:45:42.569943",
     "exception": false,
     "start_time": "2021-06-11T19:45:42.493831",
     "status": "completed"
    },
    "tags": []
   },
   "outputs": [
    {
     "data": {
      "text/plain": [
       "PassengerId     0.000000\n",
       "Survived        0.000000\n",
       "Pclass          0.000000\n",
       "Name            0.000000\n",
       "Sex             0.000000\n",
       "Age            19.865320\n",
       "SibSp           0.000000\n",
       "Parch           0.000000\n",
       "Ticket          0.000000\n",
       "Fare            0.000000\n",
       "Cabin          77.104377\n",
       "Embarked        0.224467\n",
       "dtype: float64"
      ]
     },
     "execution_count": 9,
     "metadata": {},
     "output_type": "execute_result"
    }
   ],
   "source": [
    "# checking the % of null values per column\n",
    "(trainingData.isna().sum()/len(trainingData)) *100"
   ]
  },
  {
   "cell_type": "markdown",
   "id": "hybrid-wagner",
   "metadata": {
    "papermill": {
     "duration": 0.050006,
     "end_time": "2021-06-11T19:45:42.670361",
     "exception": false,
     "start_time": "2021-06-11T19:45:42.620355",
     "status": "completed"
    },
    "tags": []
   },
   "source": [
    "* For the age column, we can view the box plot of the data in order to decide the value that we'll to fill the null valued cells"
   ]
  },
  {
   "cell_type": "code",
   "execution_count": 10,
   "id": "relative-defendant",
   "metadata": {
    "execution": {
     "iopub.execute_input": "2021-06-11T19:45:42.775762Z",
     "iopub.status.busy": "2021-06-11T19:45:42.774833Z",
     "iopub.status.idle": "2021-06-11T19:45:43.710136Z",
     "shell.execute_reply": "2021-06-11T19:45:43.709175Z",
     "shell.execute_reply.started": "2021-06-11T19:31:14.913436Z"
    },
    "papermill": {
     "duration": 0.989323,
     "end_time": "2021-06-11T19:45:43.710308",
     "exception": false,
     "start_time": "2021-06-11T19:45:42.720985",
     "status": "completed"
    },
    "tags": []
   },
   "outputs": [
    {
     "name": "stderr",
     "output_type": "stream",
     "text": [
      "/opt/conda/lib/python3.7/site-packages/seaborn/_decorators.py:43: FutureWarning: Pass the following variable as a keyword arg: x. From version 0.12, the only valid positional argument will be `data`, and passing other arguments without an explicit keyword will result in an error or misinterpretation.\n",
      "  FutureWarning\n"
     ]
    },
    {
     "data": {
      "text/plain": [
       "<AxesSubplot:xlabel='Age'>"
      ]
     },
     "execution_count": 10,
     "metadata": {},
     "output_type": "execute_result"
    },
    {
     "data": {
      "image/png": "[encoded data removed]",
      "text/plain": [
       "<Figure size 432x288 with 1 Axes>"
      ]
     },
     "metadata": {
      "needs_background": "light"
     },
     "output_type": "display_data"
    }
   ],
   "source": [
    "import seaborn as sns\n",
    "sns.boxplot(trainingData.Age)"
   ]
  },
  {
   "cell_type": "markdown",
   "id": "immune-mustang",
   "metadata": {
    "papermill": {
     "duration": 0.050884,
     "end_time": "2021-06-11T19:45:43.812078",
     "exception": false,
     "start_time": "2021-06-11T19:45:43.761194",
     "status": "completed"
    },
    "tags": []
   },
   "source": [
    "* since the data is skewed, it's better to use either the mode or median instead of using the mean"
   ]
  },
  {
   "cell_type": "code",
   "execution_count": 11,
   "id": "analyzed-likelihood",
   "metadata": {
    "execution": {
     "iopub.execute_input": "2021-06-11T19:45:43.921067Z",
     "iopub.status.busy": "2021-06-11T19:45:43.920444Z",
     "iopub.status.idle": "2021-06-11T19:45:43.923277Z",
     "shell.execute_reply": "2021-06-11T19:45:43.922680Z",
     "shell.execute_reply.started": "2021-06-11T19:31:16.096596Z"
    },
    "papermill": {
     "duration": 0.05989,
     "end_time": "2021-06-11T19:45:43.923457",
     "exception": false,
     "start_time": "2021-06-11T19:45:43.863567",
     "status": "completed"
    },
    "tags": []
   },
   "outputs": [],
   "source": [
    "# for the age column, we'll fill the missing cells with mode value\n",
    "trainingData['Age'].fillna(trainingData['Age'].mode()[0], inplace=True)"
   ]
  },
  {
   "cell_type": "markdown",
   "id": "circular-digest",
   "metadata": {
    "papermill": {
     "duration": 0.051663,
     "end_time": "2021-06-11T19:45:44.026731",
     "exception": false,
     "start_time": "2021-06-11T19:45:43.975068",
     "status": "completed"
    },
    "tags": []
   },
   "source": [
    "* dropping the cabin column (77% empty) and other columns (PassengerID, Name, Ticket) that won't be used in training"
   ]
  },
  {
   "cell_type": "code",
   "execution_count": 12,
   "id": "varying-stick",
   "metadata": {
    "execution": {
     "iopub.execute_input": "2021-06-11T19:45:44.131916Z",
     "iopub.status.busy": "2021-06-11T19:45:44.131325Z",
     "iopub.status.idle": "2021-06-11T19:45:44.146113Z",
     "shell.execute_reply": "2021-06-11T19:45:44.145620Z",
     "shell.execute_reply.started": "2021-06-11T19:31:17.39571Z"
    },
    "papermill": {
     "duration": 0.068489,
     "end_time": "2021-06-11T19:45:44.146248",
     "exception": false,
     "start_time": "2021-06-11T19:45:44.077759",
     "status": "completed"
    },
    "tags": []
   },
   "outputs": [
    {
     "data": {
      "text/html": [
       "<div>\n",
       "<style scoped>\n",
       "    .dataframe tbody tr th:only-of-type {\n",
       "        vertical-align: middle;\n",
       "    }\n",
       "\n",
       "    .dataframe tbody tr th {\n",
       "        vertical-align: top;\n",
       "    }\n",
       "\n",
       "    .dataframe thead th {\n",
       "        text-align: right;\n",
       "    }\n",
       "</style>\n",
       "<table border=\"1\" class=\"dataframe\">\n",
       "  <thead>\n",
       "    <tr style=\"text-align: right;\">\n",
       "      <th></th>\n",
       "      <th>Survived</th>\n",
       "      <th>Pclass</th>\n",
       "      <th>Sex</th>\n",
       "      <th>Age</th>\n",
       "      <th>SibSp</th>\n",
       "      <th>Parch</th>\n",
       "      <th>Fare</th>\n",
       "      <th>Embarked</th>\n",
       "    </tr>\n",
       "  </thead>\n",
       "  <tbody>\n",
       "    <tr>\n",
       "      <th>0</th>\n",
       "      <td>0</td>\n",
       "      <td>3</td>\n",
       "      <td>male</td>\n",
       "      <td>22.0</td>\n",
       "      <td>1</td>\n",
       "      <td>0</td>\n",
       "      <td>7.2500</td>\n",
       "      <td>S</td>\n",
       "    </tr>\n",
       "    <tr>\n",
       "      <th>1</th>\n",
       "      <td>1</td>\n",
       "      <td>1</td>\n",
       "      <td>female</td>\n",
       "      <td>38.0</td>\n",
       "      <td>1</td>\n",
       "      <td>0</td>\n",
       "      <td>71.2833</td>\n",
       "      <td>C</td>\n",
       "    </tr>\n",
       "    <tr>\n",
       "      <th>2</th>\n",
       "      <td>1</td>\n",
       "      <td>3</td>\n",
       "      <td>female</td>\n",
       "      <td>26.0</td>\n",
       "      <td>0</td>\n",
       "      <td>0</td>\n",
       "      <td>7.9250</td>\n",
       "      <td>S</td>\n",
       "    </tr>\n",
       "    <tr>\n",
       "      <th>3</th>\n",
       "      <td>1</td>\n",
       "      <td>1</td>\n",
       "      <td>female</td>\n",
       "      <td>35.0</td>\n",
       "      <td>1</td>\n",
       "      <td>0</td>\n",
       "      <td>53.1000</td>\n",
       "      <td>S</td>\n",
       "    </tr>\n",
       "    <tr>\n",
       "      <th>4</th>\n",
       "      <td>0</td>\n",
       "      <td>3</td>\n",
       "      <td>male</td>\n",
       "      <td>35.0</td>\n",
       "      <td>0</td>\n",
       "      <td>0</td>\n",
       "      <td>8.0500</td>\n",
       "      <td>S</td>\n",
       "    </tr>\n",
       "  </tbody>\n",
       "</table>\n",
       "</div>"
      ],
      "text/plain": [
       "   Survived  Pclass     Sex   Age  SibSp  Parch     Fare Embarked\n",
       "0         0       3    male  22.0      1      0   7.2500        S\n",
       "1         1       1  female  38.0      1      0  71.2833        C\n",
       "2         1       3  female  26.0      0      0   7.9250        S\n",
       "3         1       1  female  35.0      1      0  53.1000        S\n",
       "4         0       3    male  35.0      0      0   8.0500        S"
      ]
     },
     "execution_count": 12,
     "metadata": {},
     "output_type": "execute_result"
    }
   ],
   "source": [
    "trainingData.drop(labels=['Ticket', 'PassengerId', 'Cabin', 'Name'],axis=1,inplace=True)\n",
    "trainingData.head()"
   ]
  },
  {
   "cell_type": "markdown",
   "id": "personal-large",
   "metadata": {
    "papermill": {
     "duration": 0.051574,
     "end_time": "2021-06-11T19:45:44.248922",
     "exception": false,
     "start_time": "2021-06-11T19:45:44.197348",
     "status": "completed"
    },
    "tags": []
   },
   "source": [
    "* converting categorial data (Sex and Embarked columns) to numerical"
   ]
  },
  {
   "cell_type": "code",
   "execution_count": 13,
   "id": "subject-hearing",
   "metadata": {
    "execution": {
     "iopub.execute_input": "2021-06-11T19:45:44.358785Z",
     "iopub.status.busy": "2021-06-11T19:45:44.358158Z",
     "iopub.status.idle": "2021-06-11T19:45:44.370241Z",
     "shell.execute_reply": "2021-06-11T19:45:44.370712Z",
     "shell.execute_reply.started": "2021-06-11T19:31:18.651431Z"
    },
    "papermill": {
     "duration": 0.070728,
     "end_time": "2021-06-11T19:45:44.370877",
     "exception": false,
     "start_time": "2021-06-11T19:45:44.300149",
     "status": "completed"
    },
    "tags": []
   },
   "outputs": [
    {
     "data": {
      "text/html": [
       "<div>\n",
       "<style scoped>\n",
       "    .dataframe tbody tr th:only-of-type {\n",
       "        vertical-align: middle;\n",
       "    }\n",
       "\n",
       "    .dataframe tbody tr th {\n",
       "        vertical-align: top;\n",
       "    }\n",
       "\n",
       "    .dataframe thead th {\n",
       "        text-align: right;\n",
       "    }\n",
       "</style>\n",
       "<table border=\"1\" class=\"dataframe\">\n",
       "  <thead>\n",
       "    <tr style=\"text-align: right;\">\n",
       "      <th></th>\n",
       "      <th>Survived</th>\n",
       "      <th>Pclass</th>\n",
       "      <th>Sex</th>\n",
       "      <th>Age</th>\n",
       "      <th>SibSp</th>\n",
       "      <th>Parch</th>\n",
       "      <th>Fare</th>\n",
       "      <th>Embarked</th>\n",
       "    </tr>\n",
       "  </thead>\n",
       "  <tbody>\n",
       "    <tr>\n",
       "      <th>0</th>\n",
       "      <td>0</td>\n",
       "      <td>3</td>\n",
       "      <td>0</td>\n",
       "      <td>22.0</td>\n",
       "      <td>1</td>\n",
       "      <td>0</td>\n",
       "      <td>7.2500</td>\n",
       "      <td>2.0</td>\n",
       "    </tr>\n",
       "    <tr>\n",
       "      <th>1</th>\n",
       "      <td>1</td>\n",
       "      <td>1</td>\n",
       "      <td>1</td>\n",
       "      <td>38.0</td>\n",
       "      <td>1</td>\n",
       "      <td>0</td>\n",
       "      <td>71.2833</td>\n",
       "      <td>0.0</td>\n",
       "    </tr>\n",
       "    <tr>\n",
       "      <th>2</th>\n",
       "      <td>1</td>\n",
       "      <td>3</td>\n",
       "      <td>1</td>\n",
       "      <td>26.0</td>\n",
       "      <td>0</td>\n",
       "      <td>0</td>\n",
       "      <td>7.9250</td>\n",
       "      <td>2.0</td>\n",
       "    </tr>\n",
       "    <tr>\n",
       "      <th>3</th>\n",
       "      <td>1</td>\n",
       "      <td>1</td>\n",
       "      <td>1</td>\n",
       "      <td>35.0</td>\n",
       "      <td>1</td>\n",
       "      <td>0</td>\n",
       "      <td>53.1000</td>\n",
       "      <td>2.0</td>\n",
       "    </tr>\n",
       "    <tr>\n",
       "      <th>4</th>\n",
       "      <td>0</td>\n",
       "      <td>3</td>\n",
       "      <td>0</td>\n",
       "      <td>35.0</td>\n",
       "      <td>0</td>\n",
       "      <td>0</td>\n",
       "      <td>8.0500</td>\n",
       "      <td>2.0</td>\n",
       "    </tr>\n",
       "  </tbody>\n",
       "</table>\n",
       "</div>"
      ],
      "text/plain": [
       "   Survived  Pclass  Sex   Age  SibSp  Parch     Fare  Embarked\n",
       "0         0       3    0  22.0      1      0   7.2500       2.0\n",
       "1         1       1    1  38.0      1      0  71.2833       0.0\n",
       "2         1       3    1  26.0      0      0   7.9250       2.0\n",
       "3         1       1    1  35.0      1      0  53.1000       2.0\n",
       "4         0       3    0  35.0      0      0   8.0500       2.0"
      ]
     },
     "execution_count": 13,
     "metadata": {},
     "output_type": "execute_result"
    }
   ],
   "source": [
    "trainingData['Sex'] = trainingData['Sex'].map({'male':0, 'female':1})\n",
    "trainingData['Embarked'] = trainingData['Embarked'].map({'C':0, 'Q':1, 'S':2})\n",
    "trainingData.head()"
   ]
  },
  {
   "cell_type": "markdown",
   "id": "sitting-privacy",
   "metadata": {
    "papermill": {
     "duration": 0.051581,
     "end_time": "2021-06-11T19:45:44.474678",
     "exception": false,
     "start_time": "2021-06-11T19:45:44.423097",
     "status": "completed"
    },
    "tags": []
   },
   "source": [
    "* For the 2 empty Embarked cells, we'll fill them with the majority class"
   ]
  },
  {
   "cell_type": "code",
   "execution_count": 14,
   "id": "agreed-print",
   "metadata": {
    "execution": {
     "iopub.execute_input": "2021-06-11T19:45:44.581123Z",
     "iopub.status.busy": "2021-06-11T19:45:44.580508Z",
     "iopub.status.idle": "2021-06-11T19:45:44.812121Z",
     "shell.execute_reply": "2021-06-11T19:45:44.812586Z",
     "shell.execute_reply.started": "2021-06-11T19:31:19.795828Z"
    },
    "papermill": {
     "duration": 0.286308,
     "end_time": "2021-06-11T19:45:44.812764",
     "exception": false,
     "start_time": "2021-06-11T19:45:44.526456",
     "status": "completed"
    },
    "tags": []
   },
   "outputs": [
    {
     "data": {
      "text/plain": [
       "Text(0, 0.5, 'Passengers nb')"
      ]
     },
     "execution_count": 14,
     "metadata": {},
     "output_type": "execute_result"
    },
    {
     "data": {
      "image/png": "[encoded data removed]",
      "text/plain": [
       "<Figure size 432x288 with 1 Axes>"
      ]
     },
     "metadata": {
      "needs_background": "light"
     },
     "output_type": "display_data"
    }
   ],
   "source": [
    "plt = trainingData.Embarked.value_counts().sort_index().plot(kind='bar')\n",
    "plt.set_xlabel('Embarked')\n",
    "plt.set_ylabel('Passengers nb')"
   ]
  },
  {
   "cell_type": "markdown",
   "id": "formal-mirror",
   "metadata": {
    "papermill": {
     "duration": 0.053393,
     "end_time": "2021-06-11T19:45:44.919762",
     "exception": false,
     "start_time": "2021-06-11T19:45:44.866369",
     "status": "completed"
    },
    "tags": []
   },
   "source": [
    "The majority class is 2 (S)"
   ]
  },
  {
   "cell_type": "code",
   "execution_count": 15,
   "id": "homeless-brave",
   "metadata": {
    "execution": {
     "iopub.execute_input": "2021-06-11T19:45:45.032989Z",
     "iopub.status.busy": "2021-06-11T19:45:45.032276Z",
     "iopub.status.idle": "2021-06-11T19:45:45.034217Z",
     "shell.execute_reply": "2021-06-11T19:45:45.034668Z",
     "shell.execute_reply.started": "2021-06-11T19:31:21.06462Z"
    },
    "papermill": {
     "duration": 0.060475,
     "end_time": "2021-06-11T19:45:45.034845",
     "exception": false,
     "start_time": "2021-06-11T19:45:44.974370",
     "status": "completed"
    },
    "tags": []
   },
   "outputs": [],
   "source": [
    "trainingData['Embarked'].fillna(2, inplace=True)"
   ]
  },
  {
   "cell_type": "markdown",
   "id": "incorporate-music",
   "metadata": {
    "papermill": {
     "duration": 0.052467,
     "end_time": "2021-06-11T19:45:45.140330",
     "exception": false,
     "start_time": "2021-06-11T19:45:45.087863",
     "status": "completed"
    },
    "tags": []
   },
   "source": [
    "# Training Data\n",
    "We'll start by using all the left features (Pclass, Sex, Age, SibSp, Parch, Fare, Embarked), then we can further tune the features"
   ]
  },
  {
   "cell_type": "code",
   "execution_count": 16,
   "id": "adverse-growth",
   "metadata": {
    "execution": {
     "iopub.execute_input": "2021-06-11T19:45:45.249333Z",
     "iopub.status.busy": "2021-06-11T19:45:45.248668Z",
     "iopub.status.idle": "2021-06-11T19:45:45.262314Z",
     "shell.execute_reply": "2021-06-11T19:45:45.262793Z",
     "shell.execute_reply.started": "2021-06-11T19:31:22.200677Z"
    },
    "papermill": {
     "duration": 0.069686,
     "end_time": "2021-06-11T19:45:45.262960",
     "exception": false,
     "start_time": "2021-06-11T19:45:45.193274",
     "status": "completed"
    },
    "tags": []
   },
   "outputs": [
    {
     "data": {
      "text/html": [
       "<div>\n",
       "<style scoped>\n",
       "    .dataframe tbody tr th:only-of-type {\n",
       "        vertical-align: middle;\n",
       "    }\n",
       "\n",
       "    .dataframe tbody tr th {\n",
       "        vertical-align: top;\n",
       "    }\n",
       "\n",
       "    .dataframe thead th {\n",
       "        text-align: right;\n",
       "    }\n",
       "</style>\n",
       "<table border=\"1\" class=\"dataframe\">\n",
       "  <thead>\n",
       "    <tr style=\"text-align: right;\">\n",
       "      <th></th>\n",
       "      <th>Pclass</th>\n",
       "      <th>Sex</th>\n",
       "      <th>Age</th>\n",
       "      <th>SibSp</th>\n",
       "      <th>Parch</th>\n",
       "      <th>Fare</th>\n",
       "      <th>Embarked</th>\n",
       "    </tr>\n",
       "  </thead>\n",
       "  <tbody>\n",
       "    <tr>\n",
       "      <th>0</th>\n",
       "      <td>3</td>\n",
       "      <td>0</td>\n",
       "      <td>22.0</td>\n",
       "      <td>1</td>\n",
       "      <td>0</td>\n",
       "      <td>7.2500</td>\n",
       "      <td>2.0</td>\n",
       "    </tr>\n",
       "    <tr>\n",
       "      <th>1</th>\n",
       "      <td>1</td>\n",
       "      <td>1</td>\n",
       "      <td>38.0</td>\n",
       "      <td>1</td>\n",
       "      <td>0</td>\n",
       "      <td>71.2833</td>\n",
       "      <td>0.0</td>\n",
       "    </tr>\n",
       "    <tr>\n",
       "      <th>2</th>\n",
       "      <td>3</td>\n",
       "      <td>1</td>\n",
       "      <td>26.0</td>\n",
       "      <td>0</td>\n",
       "      <td>0</td>\n",
       "      <td>7.9250</td>\n",
       "      <td>2.0</td>\n",
       "    </tr>\n",
       "    <tr>\n",
       "      <th>3</th>\n",
       "      <td>1</td>\n",
       "      <td>1</td>\n",
       "      <td>35.0</td>\n",
       "      <td>1</td>\n",
       "      <td>0</td>\n",
       "      <td>53.1000</td>\n",
       "      <td>2.0</td>\n",
       "    </tr>\n",
       "    <tr>\n",
       "      <th>4</th>\n",
       "      <td>3</td>\n",
       "      <td>0</td>\n",
       "      <td>35.0</td>\n",
       "      <td>0</td>\n",
       "      <td>0</td>\n",
       "      <td>8.0500</td>\n",
       "      <td>2.0</td>\n",
       "    </tr>\n",
       "  </tbody>\n",
       "</table>\n",
       "</div>"
      ],
      "text/plain": [
       "   Pclass  Sex   Age  SibSp  Parch     Fare  Embarked\n",
       "0       3    0  22.0      1      0   7.2500       2.0\n",
       "1       1    1  38.0      1      0  71.2833       0.0\n",
       "2       3    1  26.0      0      0   7.9250       2.0\n",
       "3       1    1  35.0      1      0  53.1000       2.0\n",
       "4       3    0  35.0      0      0   8.0500       2.0"
      ]
     },
     "execution_count": 16,
     "metadata": {},
     "output_type": "execute_result"
    }
   ],
   "source": [
    "# defining X and y\n",
    "y = trainingData.Survived\n",
    "# X is all the filtered columns except Survived column\n",
    "X = trainingData.loc[:, trainingData.columns != 'Survived']\n",
    "X.head()"
   ]
  },
  {
   "cell_type": "markdown",
   "id": "julian-opposition",
   "metadata": {
    "papermill": {
     "duration": 0.05294,
     "end_time": "2021-06-11T19:45:45.369426",
     "exception": false,
     "start_time": "2021-06-11T19:45:45.316486",
     "status": "completed"
    },
    "tags": []
   },
   "source": [
    "# Training Model \n",
    "**Random Forest Classifier**"
   ]
  },
  {
   "cell_type": "markdown",
   "id": "capital-eleven",
   "metadata": {
    "papermill": {
     "duration": 0.053161,
     "end_time": "2021-06-11T19:45:45.476095",
     "exception": false,
     "start_time": "2021-06-11T19:45:45.422934",
     "status": "completed"
    },
    "tags": []
   },
   "source": [
    "* without cross-validation"
   ]
  },
  {
   "cell_type": "code",
   "execution_count": 17,
   "id": "likely-kelly",
   "metadata": {
    "execution": {
     "iopub.execute_input": "2021-06-11T19:45:45.585434Z",
     "iopub.status.busy": "2021-06-11T19:45:45.584770Z",
     "iopub.status.idle": "2021-06-11T19:45:46.210187Z",
     "shell.execute_reply": "2021-06-11T19:45:46.209678Z",
     "shell.execute_reply.started": "2021-06-11T19:31:23.996799Z"
    },
    "papermill": {
     "duration": 0.681187,
     "end_time": "2021-06-11T19:45:46.210340",
     "exception": false,
     "start_time": "2021-06-11T19:45:45.529153",
     "status": "completed"
    },
    "tags": []
   },
   "outputs": [
    {
     "data": {
      "text/plain": [
       "RandomForestClassifier(random_state=1)"
      ]
     },
     "execution_count": 17,
     "metadata": {},
     "output_type": "execute_result"
    }
   ],
   "source": [
    "from sklearn.ensemble import RandomForestClassifier\n",
    "from sklearn.model_selection import train_test_split\n",
    "\n",
    "# splitting data for score calculation\n",
    "X_train, X_test, y_train, y_test = train_test_split(X, y, test_size=0.3, random_state=0)\n",
    "\n",
    "rfModel = RandomForestClassifier(random_state=1)\n",
    "rfModel.fit(X_train,y_train)"
   ]
  },
  {
   "cell_type": "markdown",
   "id": "artistic-disclaimer",
   "metadata": {
    "papermill": {
     "duration": 0.053678,
     "end_time": "2021-06-11T19:45:46.317789",
     "exception": false,
     "start_time": "2021-06-11T19:45:46.264111",
     "status": "completed"
    },
    "tags": []
   },
   "source": [
    "**Model Evaluation**"
   ]
  },
  {
   "cell_type": "code",
   "execution_count": 18,
   "id": "fiscal-bouquet",
   "metadata": {
    "execution": {
     "iopub.execute_input": "2021-06-11T19:45:46.428353Z",
     "iopub.status.busy": "2021-06-11T19:45:46.427736Z",
     "iopub.status.idle": "2021-06-11T19:45:46.449184Z",
     "shell.execute_reply": "2021-06-11T19:45:46.449720Z",
     "shell.execute_reply.started": "2021-06-11T19:31:25.134984Z"
    },
    "papermill": {
     "duration": 0.078207,
     "end_time": "2021-06-11T19:45:46.449887",
     "exception": false,
     "start_time": "2021-06-11T19:45:46.371680",
     "status": "completed"
    },
    "tags": []
   },
   "outputs": [
    {
     "data": {
      "text/plain": [
       "0.8208955223880597"
      ]
     },
     "execution_count": 18,
     "metadata": {},
     "output_type": "execute_result"
    }
   ],
   "source": [
    "rfModel.score(X_test, y_test)"
   ]
  },
  {
   "cell_type": "markdown",
   "id": "clean-wellington",
   "metadata": {
    "papermill": {
     "duration": 0.053499,
     "end_time": "2021-06-11T19:45:46.557152",
     "exception": false,
     "start_time": "2021-06-11T19:45:46.503653",
     "status": "completed"
    },
    "tags": []
   },
   "source": [
    "* With parameters tuning (cross-validation)"
   ]
  },
  {
   "cell_type": "code",
   "execution_count": 19,
   "id": "broken-paper",
   "metadata": {
    "execution": {
     "iopub.execute_input": "2021-06-11T19:45:46.669174Z",
     "iopub.status.busy": "2021-06-11T19:45:46.668510Z",
     "iopub.status.idle": "2021-06-11T19:47:46.456753Z",
     "shell.execute_reply": "2021-06-11T19:47:46.457264Z",
     "shell.execute_reply.started": "2021-06-11T19:31:27.197836Z"
    },
    "papermill": {
     "duration": 119.846235,
     "end_time": "2021-06-11T19:47:46.457464",
     "exception": false,
     "start_time": "2021-06-11T19:45:46.611229",
     "status": "completed"
    },
    "tags": []
   },
   "outputs": [
    {
     "data": {
      "text/plain": [
       "GridSearchCV(cv=RepeatedStratifiedKFold(n_repeats=5, n_splits=5, random_state=None),\n",
       "             estimator=RandomForestClassifier(), n_jobs=-1,\n",
       "             param_grid=[{'max_depth': [5, 7, 10, None],\n",
       "                          'min_samples_split': [2, 5, 10],\n",
       "                          'n_estimators': [100, 150, 200]}])"
      ]
     },
     "execution_count": 19,
     "metadata": {},
     "output_type": "execute_result"
    }
   ],
   "source": [
    "from sklearn.model_selection import GridSearchCV, RepeatedStratifiedKFold\n",
    "\n",
    "# training model\n",
    "rfModel = RandomForestClassifier()\n",
    "\n",
    "# selecting parameters to tune\n",
    "parameters = [{'n_estimators': [100, 150, 200],\n",
    "           'max_depth': [5, 7, 10, None],\n",
    "           'min_samples_split': [2, 5, 10]}]\n",
    "\n",
    "# tuning hyperparameters using GridSearchCV (cross-validation)\n",
    "cv = RepeatedStratifiedKFold(n_splits=5, n_repeats=5)\n",
    "rfModelCV = GridSearchCV(rfModel, parameters, cv=cv, n_jobs=-1)\n",
    "# no need to split the data\n",
    "rfModelCV.fit(X, y)"
   ]
  },
  {
   "cell_type": "markdown",
   "id": "conservative-indianapolis",
   "metadata": {
    "papermill": {
     "duration": 0.053674,
     "end_time": "2021-06-11T19:47:46.565112",
     "exception": false,
     "start_time": "2021-06-11T19:47:46.511438",
     "status": "completed"
    },
    "tags": []
   },
   "source": [
    "showing best parameters (resulted from the cross validation)"
   ]
  },
  {
   "cell_type": "code",
   "execution_count": 20,
   "id": "covered-prospect",
   "metadata": {
    "execution": {
     "iopub.execute_input": "2021-06-11T19:47:46.676909Z",
     "iopub.status.busy": "2021-06-11T19:47:46.676279Z",
     "iopub.status.idle": "2021-06-11T19:47:46.681121Z",
     "shell.execute_reply": "2021-06-11T19:47:46.681614Z",
     "shell.execute_reply.started": "2021-06-11T19:34:03.091768Z"
    },
    "papermill": {
     "duration": 0.062202,
     "end_time": "2021-06-11T19:47:46.681779",
     "exception": false,
     "start_time": "2021-06-11T19:47:46.619577",
     "status": "completed"
    },
    "tags": []
   },
   "outputs": [
    {
     "data": {
      "text/plain": [
       "{'max_depth': 10, 'min_samples_split': 5, 'n_estimators': 200}"
      ]
     },
     "execution_count": 20,
     "metadata": {},
     "output_type": "execute_result"
    }
   ],
   "source": [
    "rfModelCV.best_params_"
   ]
  },
  {
   "cell_type": "markdown",
   "id": "continuing-spiritual",
   "metadata": {
    "papermill": {
     "duration": 0.054014,
     "end_time": "2021-06-11T19:47:46.791021",
     "exception": false,
     "start_time": "2021-06-11T19:47:46.737007",
     "status": "completed"
    },
    "tags": []
   },
   "source": [
    "**Model Evaluation**"
   ]
  },
  {
   "cell_type": "code",
   "execution_count": 21,
   "id": "literary-biotechnology",
   "metadata": {
    "execution": {
     "iopub.execute_input": "2021-06-11T19:47:46.903554Z",
     "iopub.status.busy": "2021-06-11T19:47:46.902869Z",
     "iopub.status.idle": "2021-06-11T19:47:46.907536Z",
     "shell.execute_reply": "2021-06-11T19:47:46.908035Z",
     "shell.execute_reply.started": "2021-06-11T19:34:24.826046Z"
    },
    "papermill": {
     "duration": 0.062691,
     "end_time": "2021-06-11T19:47:46.908199",
     "exception": false,
     "start_time": "2021-06-11T19:47:46.845508",
     "status": "completed"
    },
    "tags": []
   },
   "outputs": [
    {
     "data": {
      "text/plain": [
       "0.8280698010168852"
      ]
     },
     "execution_count": 21,
     "metadata": {},
     "output_type": "execute_result"
    }
   ],
   "source": [
    "rfModelCV.best_score_"
   ]
  },
  {
   "cell_type": "markdown",
   "id": "inner-spokesman",
   "metadata": {
    "papermill": {
     "duration": 0.05508,
     "end_time": "2021-06-11T19:47:47.018704",
     "exception": false,
     "start_time": "2021-06-11T19:47:46.963624",
     "status": "completed"
    },
    "tags": []
   },
   "source": [
    "# Feature Tuning"
   ]
  },
  {
   "cell_type": "markdown",
   "id": "worth-philosophy",
   "metadata": {
    "papermill": {
     "duration": 0.05476,
     "end_time": "2021-06-11T19:47:47.128589",
     "exception": false,
     "start_time": "2021-06-11T19:47:47.073829",
     "status": "completed"
    },
    "tags": []
   },
   "source": [
    "* used features"
   ]
  },
  {
   "cell_type": "code",
   "execution_count": 22,
   "id": "respected-extent",
   "metadata": {
    "execution": {
     "iopub.execute_input": "2021-06-11T19:47:47.242759Z",
     "iopub.status.busy": "2021-06-11T19:47:47.242081Z",
     "iopub.status.idle": "2021-06-11T19:47:47.245482Z",
     "shell.execute_reply": "2021-06-11T19:47:47.245943Z",
     "shell.execute_reply.started": "2021-06-11T19:34:33.042129Z"
    },
    "papermill": {
     "duration": 0.061768,
     "end_time": "2021-06-11T19:47:47.246112",
     "exception": false,
     "start_time": "2021-06-11T19:47:47.184344",
     "status": "completed"
    },
    "tags": []
   },
   "outputs": [],
   "source": [
    "features = ['Pclass', 'Sex', 'Age', 'SibSp', 'Parch', 'Fare',\n",
    "       'Embarked']"
   ]
  },
  {
   "cell_type": "markdown",
   "id": "marine-olive",
   "metadata": {
    "papermill": {
     "duration": 0.055135,
     "end_time": "2021-06-11T19:47:47.356561",
     "exception": false,
     "start_time": "2021-06-11T19:47:47.301426",
     "status": "completed"
    },
    "tags": []
   },
   "source": [
    "* calculating each feature's importance"
   ]
  },
  {
   "cell_type": "code",
   "execution_count": 23,
   "id": "played-smooth",
   "metadata": {
    "execution": {
     "iopub.execute_input": "2021-06-11T19:47:47.469709Z",
     "iopub.status.busy": "2021-06-11T19:47:47.469053Z",
     "iopub.status.idle": "2021-06-11T19:47:47.496328Z",
     "shell.execute_reply": "2021-06-11T19:47:47.495789Z",
     "shell.execute_reply.started": "2021-06-11T19:34:35.160413Z"
    },
    "papermill": {
     "duration": 0.084813,
     "end_time": "2021-06-11T19:47:47.496467",
     "exception": false,
     "start_time": "2021-06-11T19:47:47.411654",
     "status": "completed"
    },
    "tags": []
   },
   "outputs": [
    {
     "data": {
      "text/plain": [
       "Sex         0.338706\n",
       "Fare        0.230385\n",
       "Age         0.186287\n",
       "Pclass      0.112253\n",
       "SibSp       0.053859\n",
       "Parch       0.042338\n",
       "Embarked    0.036172\n",
       "dtype: float64"
      ]
     },
     "execution_count": 23,
     "metadata": {},
     "output_type": "execute_result"
    }
   ],
   "source": [
    "featuresImportance = pd.Series(rfModelCV.best_estimator_.feature_importances_,index=features).sort_values(ascending=False)\n",
    "featuresImportance"
   ]
  },
  {
   "cell_type": "markdown",
   "id": "august-comfort",
   "metadata": {
    "papermill": {
     "duration": 0.054854,
     "end_time": "2021-06-11T19:47:47.606604",
     "exception": false,
     "start_time": "2021-06-11T19:47:47.551750",
     "status": "completed"
    },
    "tags": []
   },
   "source": [
    "* visualizing featuresImportance "
   ]
  },
  {
   "cell_type": "code",
   "execution_count": 24,
   "id": "ultimate-bennett",
   "metadata": {
    "execution": {
     "iopub.execute_input": "2021-06-11T19:47:47.755334Z",
     "iopub.status.busy": "2021-06-11T19:47:47.752966Z",
     "iopub.status.idle": "2021-06-11T19:47:47.893795Z",
     "shell.execute_reply": "2021-06-11T19:47:47.893126Z",
     "shell.execute_reply.started": "2021-06-11T19:34:36.937986Z"
    },
    "papermill": {
     "duration": 0.232354,
     "end_time": "2021-06-11T19:47:47.893933",
     "exception": false,
     "start_time": "2021-06-11T19:47:47.661579",
     "status": "completed"
    },
    "tags": []
   },
   "outputs": [
    {
     "data": {
      "text/plain": [
       "<matplotlib.legend.Legend at 0x7f7103fbb590>"
      ]
     },
     "execution_count": 24,
     "metadata": {},
     "output_type": "execute_result"
    },
    {
     "data": {
      "image/png": "[encoded data removed]",
      "text/plain": [
       "<Figure size 432x288 with 1 Axes>"
      ]
     },
     "metadata": {
      "needs_background": "light"
     },
     "output_type": "display_data"
    }
   ],
   "source": [
    "sns.barplot(x=featuresImportance, y=featuresImportance.index)\n",
    "plt.legend()"
   ]
  },
  {
   "cell_type": "markdown",
   "id": "purple-acrobat",
   "metadata": {
    "papermill": {
     "duration": 0.056777,
     "end_time": "2021-06-11T19:47:48.007460",
     "exception": false,
     "start_time": "2021-06-11T19:47:47.950683",
     "status": "completed"
    },
    "tags": []
   },
   "source": [
    "* retraining model after leaving out least importance features"
   ]
  },
  {
   "cell_type": "code",
   "execution_count": 25,
   "id": "positive-relation",
   "metadata": {
    "execution": {
     "iopub.execute_input": "2021-06-11T19:47:48.126789Z",
     "iopub.status.busy": "2021-06-11T19:47:48.125988Z",
     "iopub.status.idle": "2021-06-11T19:47:48.135642Z",
     "shell.execute_reply": "2021-06-11T19:47:48.134999Z",
     "shell.execute_reply.started": "2021-06-11T19:34:38.787491Z"
    },
    "papermill": {
     "duration": 0.071839,
     "end_time": "2021-06-11T19:47:48.135807",
     "exception": false,
     "start_time": "2021-06-11T19:47:48.063968",
     "status": "completed"
    },
    "tags": []
   },
   "outputs": [
    {
     "name": "stderr",
     "output_type": "stream",
     "text": [
      "/opt/conda/lib/python3.7/site-packages/pandas/core/frame.py:4315: SettingWithCopyWarning: \n",
      "A value is trying to be set on a copy of a slice from a DataFrame\n",
      "\n",
      "See the caveats in the documentation: https://pandas.pydata.org/pandas-docs/stable/user_guide/indexing.html#returning-a-view-versus-a-copy\n",
      "  errors=errors,\n"
     ]
    }
   ],
   "source": [
    "# droping least important features from X\n",
    "X.drop(labels=['Embarked', 'Parch', 'SibSp'],axis=1,inplace=True)"
   ]
  },
  {
   "cell_type": "code",
   "execution_count": 26,
   "id": "sunrise-courage",
   "metadata": {
    "execution": {
     "iopub.execute_input": "2021-06-11T19:47:48.255373Z",
     "iopub.status.busy": "2021-06-11T19:47:48.254695Z",
     "iopub.status.idle": "2021-06-11T19:49:48.369619Z",
     "shell.execute_reply": "2021-06-11T19:49:48.370146Z",
     "shell.execute_reply.started": "2021-06-11T19:34:39.631564Z"
    },
    "papermill": {
     "duration": 120.177089,
     "end_time": "2021-06-11T19:49:48.370368",
     "exception": false,
     "start_time": "2021-06-11T19:47:48.193279",
     "status": "completed"
    },
    "tags": []
   },
   "outputs": [
    {
     "data": {
      "text/plain": [
       "GridSearchCV(cv=RepeatedStratifiedKFold(n_repeats=5, n_splits=5, random_state=None),\n",
       "             estimator=RandomForestClassifier(), n_jobs=-1,\n",
       "             param_grid=[{'max_depth': [5, 7, 10, None],\n",
       "                          'min_samples_split': [2, 5, 10],\n",
       "                          'n_estimators': [100, 150, 200]}])"
      ]
     },
     "execution_count": 26,
     "metadata": {},
     "output_type": "execute_result"
    }
   ],
   "source": [
    "# retraining the model\n",
    "rfModelCV.fit(X, y)"
   ]
  },
  {
   "cell_type": "markdown",
   "id": "outside-coaching",
   "metadata": {
    "papermill": {
     "duration": 0.058073,
     "end_time": "2021-06-11T19:49:48.485172",
     "exception": false,
     "start_time": "2021-06-11T19:49:48.427099",
     "status": "completed"
    },
    "tags": []
   },
   "source": [
    "**Model Evaluation**"
   ]
  },
  {
   "cell_type": "code",
   "execution_count": 27,
   "id": "prime-vienna",
   "metadata": {
    "execution": {
     "iopub.execute_input": "2021-06-11T19:49:48.605618Z",
     "iopub.status.busy": "2021-06-11T19:49:48.604726Z",
     "iopub.status.idle": "2021-06-11T19:49:48.608930Z",
     "shell.execute_reply": "2021-06-11T19:49:48.608312Z",
     "shell.execute_reply.started": "2021-06-11T19:36:59.638172Z"
    },
    "papermill": {
     "duration": 0.066822,
     "end_time": "2021-06-11T19:49:48.609064",
     "exception": false,
     "start_time": "2021-06-11T19:49:48.542242",
     "status": "completed"
    },
    "tags": []
   },
   "outputs": [
    {
     "data": {
      "text/plain": [
       "0.8392806477936099"
      ]
     },
     "execution_count": 27,
     "metadata": {},
     "output_type": "execute_result"
    }
   ],
   "source": [
    "# Showing model accuracy\n",
    "rfModelCV.best_score_"
   ]
  },
  {
   "cell_type": "markdown",
   "id": "encouraging-cylinder",
   "metadata": {
    "papermill": {
     "duration": 0.056765,
     "end_time": "2021-06-11T19:49:48.724479",
     "exception": false,
     "start_time": "2021-06-11T19:49:48.667714",
     "status": "completed"
    },
    "tags": []
   },
   "source": [
    "# Model Evaluation\n",
    "(rounded scores)\n",
    "* Model accuracy without CV: 82%\n",
    "* Model accuracy with CV: 83%\n",
    "* Model accuracy after feature tuning: 84%"
   ]
  },
  {
   "cell_type": "markdown",
   "id": "developing-brick",
   "metadata": {
    "papermill": {
     "duration": 0.058275,
     "end_time": "2021-06-11T19:49:48.841222",
     "exception": false,
     "start_time": "2021-06-11T19:49:48.782947",
     "status": "completed"
    },
    "tags": []
   },
   "source": [
    "# **Reading & Reformatting test.csv file**"
   ]
  },
  {
   "cell_type": "code",
   "execution_count": 28,
   "id": "chief-austin",
   "metadata": {
    "execution": {
     "iopub.execute_input": "2021-06-11T19:49:48.962025Z",
     "iopub.status.busy": "2021-06-11T19:49:48.961382Z",
     "iopub.status.idle": "2021-06-11T19:49:48.990484Z",
     "shell.execute_reply": "2021-06-11T19:49:48.989833Z",
     "shell.execute_reply.started": "2021-06-11T19:15:34.661805Z"
    },
    "papermill": {
     "duration": 0.091409,
     "end_time": "2021-06-11T19:49:48.990625",
     "exception": false,
     "start_time": "2021-06-11T19:49:48.899216",
     "status": "completed"
    },
    "tags": []
   },
   "outputs": [
    {
     "data": {
      "text/html": [
       "<div>\n",
       "<style scoped>\n",
       "    .dataframe tbody tr th:only-of-type {\n",
       "        vertical-align: middle;\n",
       "    }\n",
       "\n",
       "    .dataframe tbody tr th {\n",
       "        vertical-align: top;\n",
       "    }\n",
       "\n",
       "    .dataframe thead th {\n",
       "        text-align: right;\n",
       "    }\n",
       "</style>\n",
       "<table border=\"1\" class=\"dataframe\">\n",
       "  <thead>\n",
       "    <tr style=\"text-align: right;\">\n",
       "      <th></th>\n",
       "      <th>PassengerId</th>\n",
       "      <th>Pclass</th>\n",
       "      <th>Name</th>\n",
       "      <th>Sex</th>\n",
       "      <th>Age</th>\n",
       "      <th>SibSp</th>\n",
       "      <th>Parch</th>\n",
       "      <th>Ticket</th>\n",
       "      <th>Fare</th>\n",
       "      <th>Cabin</th>\n",
       "      <th>Embarked</th>\n",
       "    </tr>\n",
       "  </thead>\n",
       "  <tbody>\n",
       "    <tr>\n",
       "      <th>0</th>\n",
       "      <td>892</td>\n",
       "      <td>3</td>\n",
       "      <td>Kelly, Mr. James</td>\n",
       "      <td>male</td>\n",
       "      <td>34.5</td>\n",
       "      <td>0</td>\n",
       "      <td>0</td>\n",
       "      <td>330911</td>\n",
       "      <td>7.8292</td>\n",
       "      <td>NaN</td>\n",
       "      <td>Q</td>\n",
       "    </tr>\n",
       "    <tr>\n",
       "      <th>1</th>\n",
       "      <td>893</td>\n",
       "      <td>3</td>\n",
       "      <td>Wilkes, Mrs. James (Ellen Needs)</td>\n",
       "      <td>female</td>\n",
       "      <td>47.0</td>\n",
       "      <td>1</td>\n",
       "      <td>0</td>\n",
       "      <td>363272</td>\n",
       "      <td>7.0000</td>\n",
       "      <td>NaN</td>\n",
       "      <td>S</td>\n",
       "    </tr>\n",
       "    <tr>\n",
       "      <th>2</th>\n",
       "      <td>894</td>\n",
       "      <td>2</td>\n",
       "      <td>Myles, Mr. Thomas Francis</td>\n",
       "      <td>male</td>\n",
       "      <td>62.0</td>\n",
       "      <td>0</td>\n",
       "      <td>0</td>\n",
       "      <td>240276</td>\n",
       "      <td>9.6875</td>\n",
       "      <td>NaN</td>\n",
       "      <td>Q</td>\n",
       "    </tr>\n",
       "    <tr>\n",
       "      <th>3</th>\n",
       "      <td>895</td>\n",
       "      <td>3</td>\n",
       "      <td>Wirz, Mr. Albert</td>\n",
       "      <td>male</td>\n",
       "      <td>27.0</td>\n",
       "      <td>0</td>\n",
       "      <td>0</td>\n",
       "      <td>315154</td>\n",
       "      <td>8.6625</td>\n",
       "      <td>NaN</td>\n",
       "      <td>S</td>\n",
       "    </tr>\n",
       "    <tr>\n",
       "      <th>4</th>\n",
       "      <td>896</td>\n",
       "      <td>3</td>\n",
       "      <td>Hirvonen, Mrs. Alexander (Helga E Lindqvist)</td>\n",
       "      <td>female</td>\n",
       "      <td>22.0</td>\n",
       "      <td>1</td>\n",
       "      <td>1</td>\n",
       "      <td>3101298</td>\n",
       "      <td>12.2875</td>\n",
       "      <td>NaN</td>\n",
       "      <td>S</td>\n",
       "    </tr>\n",
       "  </tbody>\n",
       "</table>\n",
       "</div>"
      ],
      "text/plain": [
       "   PassengerId  Pclass                                          Name     Sex  \\\n",
       "0          892       3                              Kelly, Mr. James    male   \n",
       "1          893       3              Wilkes, Mrs. James (Ellen Needs)  female   \n",
       "2          894       2                     Myles, Mr. Thomas Francis    male   \n",
       "3          895       3                              Wirz, Mr. Albert    male   \n",
       "4          896       3  Hirvonen, Mrs. Alexander (Helga E Lindqvist)  female   \n",
       "\n",
       "    Age  SibSp  Parch   Ticket     Fare Cabin Embarked  \n",
       "0  34.5      0      0   330911   7.8292   NaN        Q  \n",
       "1  47.0      1      0   363272   7.0000   NaN        S  \n",
       "2  62.0      0      0   240276   9.6875   NaN        Q  \n",
       "3  27.0      0      0   315154   8.6625   NaN        S  \n",
       "4  22.0      1      1  3101298  12.2875   NaN        S  "
      ]
     },
     "execution_count": 28,
     "metadata": {},
     "output_type": "execute_result"
    }
   ],
   "source": [
    "# reading test.csv\n",
    "testData = pd.read_csv(\"/kaggle/input/titanic/test.csv\")\n",
    "testData.head()"
   ]
  },
  {
   "cell_type": "markdown",
   "id": "apart-wells",
   "metadata": {
    "papermill": {
     "duration": 0.05885,
     "end_time": "2021-06-11T19:49:49.107244",
     "exception": false,
     "start_time": "2021-06-11T19:49:49.048394",
     "status": "completed"
    },
    "tags": []
   },
   "source": [
    "* cleaning test data"
   ]
  },
  {
   "cell_type": "code",
   "execution_count": 29,
   "id": "clinical-scale",
   "metadata": {
    "execution": {
     "iopub.execute_input": "2021-06-11T19:49:49.233127Z",
     "iopub.status.busy": "2021-06-11T19:49:49.232460Z",
     "iopub.status.idle": "2021-06-11T19:49:49.235606Z",
     "shell.execute_reply": "2021-06-11T19:49:49.235047Z",
     "shell.execute_reply.started": "2021-06-11T19:15:36.428286Z"
    },
    "papermill": {
     "duration": 0.070497,
     "end_time": "2021-06-11T19:49:49.235749",
     "exception": false,
     "start_time": "2021-06-11T19:49:49.165252",
     "status": "completed"
    },
    "tags": []
   },
   "outputs": [],
   "source": [
    "testData.drop(labels=['Ticket', 'PassengerId', 'Cabin', 'Name','Parch', 'SibSp', 'Embarked'], axis=1, inplace=True)\n",
    "testData['Sex'] = testData['Sex'].map({'male':0, 'female':1})"
   ]
  },
  {
   "cell_type": "markdown",
   "id": "alert-surface",
   "metadata": {
    "papermill": {
     "duration": 0.057899,
     "end_time": "2021-06-11T19:49:49.352718",
     "exception": false,
     "start_time": "2021-06-11T19:49:49.294819",
     "status": "completed"
    },
    "tags": []
   },
   "source": [
    "* finding null values"
   ]
  },
  {
   "cell_type": "code",
   "execution_count": 30,
   "id": "fuzzy-registrar",
   "metadata": {
    "execution": {
     "iopub.execute_input": "2021-06-11T19:49:49.479085Z",
     "iopub.status.busy": "2021-06-11T19:49:49.478074Z",
     "iopub.status.idle": "2021-06-11T19:49:49.482649Z",
     "shell.execute_reply": "2021-06-11T19:49:49.482005Z",
     "shell.execute_reply.started": "2021-06-11T19:15:38.30984Z"
    },
    "papermill": {
     "duration": 0.071472,
     "end_time": "2021-06-11T19:49:49.482792",
     "exception": false,
     "start_time": "2021-06-11T19:49:49.411320",
     "status": "completed"
    },
    "tags": []
   },
   "outputs": [
    {
     "data": {
      "text/plain": [
       "Pclass     0.000000\n",
       "Sex        0.000000\n",
       "Age       20.574163\n",
       "Fare       0.239234\n",
       "dtype: float64"
      ]
     },
     "execution_count": 30,
     "metadata": {},
     "output_type": "execute_result"
    }
   ],
   "source": [
    "(testData.isna().sum()/len(testData)) *100"
   ]
  },
  {
   "cell_type": "markdown",
   "id": "dressed-douglas",
   "metadata": {
    "papermill": {
     "duration": 0.057738,
     "end_time": "2021-06-11T19:49:49.598856",
     "exception": false,
     "start_time": "2021-06-11T19:49:49.541118",
     "status": "completed"
    },
    "tags": []
   },
   "source": [
    "* subtituting null values with mode value in Age column"
   ]
  },
  {
   "cell_type": "code",
   "execution_count": 31,
   "id": "classical-malaysia",
   "metadata": {
    "execution": {
     "iopub.execute_input": "2021-06-11T19:49:49.727805Z",
     "iopub.status.busy": "2021-06-11T19:49:49.727108Z",
     "iopub.status.idle": "2021-06-11T19:49:49.730190Z",
     "shell.execute_reply": "2021-06-11T19:49:49.729568Z",
     "shell.execute_reply.started": "2021-06-11T19:15:39.652887Z"
    },
    "papermill": {
     "duration": 0.067533,
     "end_time": "2021-06-11T19:49:49.730344",
     "exception": false,
     "start_time": "2021-06-11T19:49:49.662811",
     "status": "completed"
    },
    "tags": []
   },
   "outputs": [],
   "source": [
    "testData['Age'] = testData['Age'].fillna(testData['Age'].mode()[0])"
   ]
  },
  {
   "cell_type": "markdown",
   "id": "computational-pollution",
   "metadata": {
    "papermill": {
     "duration": 0.057781,
     "end_time": "2021-06-11T19:49:49.847429",
     "exception": false,
     "start_time": "2021-06-11T19:49:49.789648",
     "status": "completed"
    },
    "tags": []
   },
   "source": [
    "* subtituting null values with interpolated value in Fare column"
   ]
  },
  {
   "cell_type": "code",
   "execution_count": 32,
   "id": "surprised-helena",
   "metadata": {
    "execution": {
     "iopub.execute_input": "2021-06-11T19:49:49.971470Z",
     "iopub.status.busy": "2021-06-11T19:49:49.970460Z",
     "iopub.status.idle": "2021-06-11T19:49:49.974766Z",
     "shell.execute_reply": "2021-06-11T19:49:49.975380Z",
     "shell.execute_reply.started": "2021-06-11T19:15:40.890393Z"
    },
    "papermill": {
     "duration": 0.069858,
     "end_time": "2021-06-11T19:49:49.975575",
     "exception": false,
     "start_time": "2021-06-11T19:49:49.905717",
     "status": "completed"
    },
    "tags": []
   },
   "outputs": [],
   "source": [
    "testData['Fare'] = testData['Fare'].fillna(testData['Fare'].interpolate())"
   ]
  },
  {
   "cell_type": "markdown",
   "id": "complex-empty",
   "metadata": {
    "papermill": {
     "duration": 0.058593,
     "end_time": "2021-06-11T19:49:50.094086",
     "exception": false,
     "start_time": "2021-06-11T19:49:50.035493",
     "status": "completed"
    },
    "tags": []
   },
   "source": [
    "# Generate Predictions"
   ]
  },
  {
   "cell_type": "code",
   "execution_count": 33,
   "id": "southern-colonial",
   "metadata": {
    "execution": {
     "iopub.execute_input": "2021-06-11T19:49:50.219452Z",
     "iopub.status.busy": "2021-06-11T19:49:50.218776Z",
     "iopub.status.idle": "2021-06-11T19:49:50.249323Z",
     "shell.execute_reply": "2021-06-11T19:49:50.248654Z",
     "shell.execute_reply.started": "2021-06-11T19:15:42.202695Z"
    },
    "papermill": {
     "duration": 0.096496,
     "end_time": "2021-06-11T19:49:50.249496",
     "exception": false,
     "start_time": "2021-06-11T19:49:50.153000",
     "status": "completed"
    },
    "tags": []
   },
   "outputs": [
    {
     "data": {
      "text/plain": [
       "array([0, 0, 0, 0, 0, 0, 0, 0, 1, 0, 0, 0, 1, 0, 1, 1, 0, 0, 1, 0, 0, 0,\n",
       "       1, 0, 1, 0, 1, 0, 1, 0, 0, 0, 1, 0, 1, 0, 0, 0, 0, 0, 0, 0, 0, 1,\n",
       "       1, 0, 0, 0, 1, 1, 0, 0, 1, 1, 0, 0, 0, 0, 0, 1, 0, 0, 0, 1, 1, 1,\n",
       "       1, 0, 0, 1, 1, 0, 0, 0, 1, 0, 0, 1, 0, 1, 1, 0, 0, 0, 0, 0, 1, 1,\n",
       "       1, 1, 0, 0, 1, 0, 0, 0, 1, 0, 1, 0, 1, 0, 0, 0, 1, 0, 0, 0, 0, 0,\n",
       "       0, 1, 1, 1, 1, 0, 0, 1, 0, 1, 1, 0, 1, 0, 0, 0, 0, 0, 0, 0, 0, 0,\n",
       "       0, 0, 0, 0, 0, 0, 0, 0, 0, 1, 0, 0, 1, 0, 0, 0, 0, 0, 1, 0, 0, 1,\n",
       "       0, 0, 1, 1, 1, 0, 1, 1, 1, 0, 0, 1, 0, 0, 1, 0, 0, 0, 0, 0, 0, 1,\n",
       "       1, 0, 1, 1, 0, 0, 1, 0, 1, 0, 1, 0, 0, 0, 0, 0, 1, 0, 1, 0, 1, 1,\n",
       "       0, 0, 0, 1, 0, 1, 0, 0, 0, 0, 1, 0, 0, 0, 0, 1, 0, 0, 1, 0, 1, 0,\n",
       "       1, 0, 1, 0, 1, 0, 0, 1, 0, 0, 0, 1, 0, 0, 0, 0, 0, 0, 1, 1, 1, 1,\n",
       "       0, 0, 0, 0, 1, 0, 1, 0, 1, 0, 1, 0, 0, 0, 0, 0, 1, 0, 0, 0, 1, 1,\n",
       "       0, 0, 0, 0, 0, 0, 0, 0, 1, 0, 0, 1, 0, 0, 0, 0, 0, 1, 1, 0, 1, 0,\n",
       "       0, 0, 0, 0, 0, 0, 0, 0, 0, 0, 1, 0, 0, 0, 0, 0, 0, 0, 1, 1, 0, 1,\n",
       "       0, 0, 0, 0, 0, 0, 1, 1, 0, 0, 0, 0, 0, 0, 0, 1, 1, 0, 1, 0, 0, 0,\n",
       "       1, 0, 0, 1, 0, 0, 0, 0, 0, 0, 0, 0, 0, 1, 0, 1, 0, 0, 0, 1, 1, 0,\n",
       "       0, 0, 1, 0, 1, 0, 0, 1, 0, 1, 1, 0, 1, 0, 0, 0, 1, 0, 0, 1, 0, 0,\n",
       "       1, 1, 0, 0, 0, 0, 0, 0, 0, 0, 0, 1, 0, 0, 0, 0, 0, 1, 0, 0, 0, 1,\n",
       "       0, 1, 0, 0, 1, 0, 1, 0, 0, 0, 0, 0, 1, 1, 1, 1, 0, 0, 1, 0, 0, 0])"
      ]
     },
     "execution_count": 33,
     "metadata": {},
     "output_type": "execute_result"
    }
   ],
   "source": [
    "testPredictions = rfModelCV.predict(testData)\n",
    "testPredictions"
   ]
  },
  {
   "cell_type": "markdown",
   "id": "golden-allen",
   "metadata": {
    "papermill": {
     "duration": 0.058379,
     "end_time": "2021-06-11T19:49:50.366587",
     "exception": false,
     "start_time": "2021-06-11T19:49:50.308208",
     "status": "completed"
    },
    "tags": []
   },
   "source": [
    "**Generating Submission file**"
   ]
  },
  {
   "cell_type": "code",
   "execution_count": 34,
   "id": "characteristic-saint",
   "metadata": {
    "execution": {
     "iopub.execute_input": "2021-06-11T19:49:50.493796Z",
     "iopub.status.busy": "2021-06-11T19:49:50.493076Z",
     "iopub.status.idle": "2021-06-11T19:49:50.505963Z",
     "shell.execute_reply": "2021-06-11T19:49:50.505375Z",
     "shell.execute_reply.started": "2021-06-11T19:15:43.570436Z"
    },
    "papermill": {
     "duration": 0.07929,
     "end_time": "2021-06-11T19:49:50.506115",
     "exception": false,
     "start_time": "2021-06-11T19:49:50.426825",
     "status": "completed"
    },
    "tags": []
   },
   "outputs": [],
   "source": [
    "# to get passengerID column\n",
    "testData = pd.read_csv(\"/kaggle/input/titanic/test.csv\")\n",
    "\n",
    "# submission file\n",
    "output = pd.DataFrame({'PassengerId': testData.PassengerId,\n",
    "                       'Survived': testPredictions})\n",
    "# save file\n",
    "output.to_csv('submission.csv', index=False)"
   ]
  }
 ],
 "metadata": {
  "kernelspec": {
   "display_name": "Python 3",
   "language": "python",
   "name": "python3"
  },
  "language_info": {
   "codemirror_mode": {
    "name": "ipython",
    "version": 3
   },
   "file_extension": ".py",
   "mimetype": "text/x-python",
   "name": "python",
   "nbconvert_exporter": "python",
   "pygments_lexer": "ipython3",
   "version": "3.7.10"
  },
  "papermill": {
   "default_parameters": {},
   "duration": 259.597421,
   "end_time": "2021-06-11T19:49:51.375464",
   "environment_variables": {},
   "exception": null,
   "input_path": "__notebook__.ipynb",
   "output_path": "__notebook__.ipynb",
   "parameters": {},
   "start_time": "2021-06-11T19:45:31.778043",
   "version": "2.3.3"
  }
 },
 "nbformat": 4,
 "nbformat_minor": 5
}
